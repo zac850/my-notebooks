{
  "nbformat": 4,
  "nbformat_minor": 0,
  "metadata": {
    "colab": {
      "name": "My First Notebook",
      "provenance": [],
      "authorship_tag": "ABX9TyO9i/G37NMAojfpfpYPE+M3",
      "include_colab_link": true
    },
    "kernelspec": {
      "name": "python3",
      "display_name": "Python 3"
    },
    "language_info": {
      "name": "python"
    }
  },
  "cells": [
    {
      "cell_type": "markdown",
      "metadata": {
        "id": "view-in-github",
        "colab_type": "text"
      },
      "source": [
        "<a href=\"https://colab.research.google.com/github/zac850/my-notebooks/blob/main/My_First_Notebook.ipynb\" target=\"_parent\"><img src=\"https://colab.research.google.com/assets/colab-badge.svg\" alt=\"Open In Colab\"/></a>"
      ]
    },
    {
      "cell_type": "code",
      "execution_count": null,
      "metadata": {
        "id": "w8c2I_6gwISu"
      },
      "outputs": [],
      "source": [
        ""
      ]
    },
    {
      "cell_type": "markdown",
      "source": [
        "#This is my first Google Colab Notebook!\n",
        "\n",
        "**Woot!**\n",
        "\n",
        "My website is at [this link](https://zacharyspitzer.com).\n",
        "\n",
        "Here's a list of things:\n",
        "+ # Thing 1\n",
        "+ ## Thing 2\n",
        "+ ### Written by Dr. Seus.\n",
        "\n",
        "This list has numbers:\n",
        "1. List 3\n",
        "2. List 2\n",
        "3. List 1\n",
        "5. I cannot skip a number!\n",
        "1. So I should just use 1. for all numberd lists?\n",
        "1. **Yes.**\n",
        "\n",
        "##CodeBlock:\n",
        "```\n",
        "print(\"Do you want to play a game?\")\n",
        "```\n"
      ],
      "metadata": {
        "id": "YgLuuqFzwLUv"
      }
    },
    {
      "cell_type": "code",
      "source": [
        "# Comments are great\n",
        "# Comment on ALL THE LINES!\n",
        "print(\"HELLO WORLD!\")\n",
        "print(\"Do you want to play a game?\") # Learn from Matthew Broderick, the answer\n",
        "x=2+2                                # should be no. Always say no!\n",
        "print(x)                             # Unless it's War Games 2...\n",
        "y=3+3\n",
        "print(y)\n",
        "print(x)\n",
        "z=x+y\n",
        "print(z)"
      ],
      "metadata": {
        "colab": {
          "base_uri": "https://localhost:8080/"
        },
        "id": "xG4JzGD7wMMm",
        "outputId": "1a6090f6-851f-4e62-cd2c-26d7ae653dac"
      },
      "execution_count": 5,
      "outputs": [
        {
          "output_type": "stream",
          "name": "stdout",
          "text": [
            "HELLO WORLD!\n",
            "Do you want to play a game?\n",
            "4\n",
            "6\n",
            "4\n",
            "10\n"
          ]
        }
      ]
    }
  ]
}